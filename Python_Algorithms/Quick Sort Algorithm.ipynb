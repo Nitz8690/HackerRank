{
 "cells": [
  {
   "cell_type": "markdown",
   "metadata": {},
   "source": [
    "## Quick Sort Algorithm"
   ]
  },
  {
   "cell_type": "code",
   "execution_count": 7,
   "metadata": {},
   "outputs": [],
   "source": [
    "def quickSort(dataset, first, last):\n",
    "    if first < last:\n",
    "        \n",
    "        pivotIdx = partition(dataset, first, last)\n",
    "\n",
    "        quickSort(dataset,first, pivotIdx-1)\n",
    "        quickSort(dataset, pivotIdx+1, last)\n",
    "    \n",
    "    return l\n",
    "\n",
    "def partition(li,first, last):\n",
    "    pivotvalue = li[first]\n",
    "    lower = first + 1\n",
    "    upper = last\n",
    "    \n",
    "    \n",
    "    done = False\n",
    "    while not done:\n",
    "        while lower <= upper and li[lower] <= pivotvalue:\n",
    "            lower += 1\n",
    "        while upper >= lower and li[upper] >= pivotvalue:\n",
    "            upper -= 1\n",
    "            \n",
    "        if upper < lower:\n",
    "            done = True\n",
    "        else:\n",
    "            temp = li[lower]\n",
    "            li[lower] = li[upper]\n",
    "            li[upper] = temp\n",
    "    \n",
    "    \n",
    "    temp = li[first]\n",
    "    li[first] = li[upper]\n",
    "    li[upper] = temp\n",
    "    \n",
    "    return upper\n",
    "        \n",
    "        "
   ]
  },
  {
   "cell_type": "code",
   "execution_count": 8,
   "metadata": {},
   "outputs": [],
   "source": [
    "l = [6, 20, 8, 19, 56, 23, 87, 41, 49, 53]"
   ]
  },
  {
   "cell_type": "code",
   "execution_count": 9,
   "metadata": {},
   "outputs": [
    {
     "name": "stdout",
     "output_type": "stream",
     "text": [
      "[6, 8, 19, 20, 23, 41, 49, 53, 56, 87]\n"
     ]
    }
   ],
   "source": [
    "print(quickSort(l,0,len(l)-1))"
   ]
  },
  {
   "cell_type": "code",
   "execution_count": null,
   "metadata": {},
   "outputs": [],
   "source": []
  }
 ],
 "metadata": {
  "kernelspec": {
   "display_name": "Python 3",
   "language": "python",
   "name": "python3"
  },
  "language_info": {
   "codemirror_mode": {
    "name": "ipython",
    "version": 3
   },
   "file_extension": ".py",
   "mimetype": "text/x-python",
   "name": "python",
   "nbconvert_exporter": "python",
   "pygments_lexer": "ipython3",
   "version": "3.8.3"
  }
 },
 "nbformat": 4,
 "nbformat_minor": 4
}
