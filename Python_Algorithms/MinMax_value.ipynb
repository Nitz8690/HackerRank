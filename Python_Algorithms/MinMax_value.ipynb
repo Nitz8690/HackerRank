{
 "cells": [
  {
   "cell_type": "code",
   "execution_count": null,
   "metadata": {},
   "outputs": [],
   "source": [
    "class pair:\n",
    "    def __init__(self):\n",
    "        self.min = 0\n",
    "        self.max = 0\n",
    "        \n",
    "    def getMinMax(arr,n) -> pair:\n",
    "        minmax = pair()\n",
    "        \n",
    "        if n == 1:\n",
    "            minmax.max = arr[0]\n",
    "            minmax.min = arr[0]\n",
    "            return minimax\n",
    "        if arr[0] > arr [1]:\n",
    "            minmax.max = arr[0]\n",
    "            minmax.min = arr[1]\n",
    "        else:\n",
    "            minmax.max = arr[1]\n",
    "            minmax.max = arr[0]\n",
    "            \n",
    "        for i in range(2, n):\n",
    "            if arr[i] > minmax.max:\n",
    "                minmax.max = arr[i]\n",
    "            elif arr[i] < minmax.min:\n",
    "                minmax.min = arr[i]\n",
    "        return minmax\n",
    "    \n",
    "\n",
    "        "
   ]
  },
  {
   "cell_type": "code",
   "execution_count": null,
   "metadata": {},
   "outputs": [],
   "source": [
    "if __name__==\"__main__\":\n",
    "    arr = [1000, 11, 445, 1, 330, 3200]\n",
    "    arr_size = 6\n",
    "    a = pair()\n",
    "    minmax = a.getMinMax(arr, 6)\n",
    "    print(\"Minmum element is\", minmax.min)\n",
    "    print(\"Maximum element is\", minmax.max)\n",
    "            "
   ]
  },
  {
   "cell_type": "code",
   "execution_count": null,
   "metadata": {},
   "outputs": [],
   "source": []
  },
  {
   "cell_type": "code",
   "execution_count": null,
   "metadata": {},
   "outputs": [],
   "source": []
  }
 ],
 "metadata": {
  "kernelspec": {
   "display_name": "Python 3",
   "language": "python",
   "name": "python3"
  },
  "language_info": {
   "codemirror_mode": {
    "name": "ipython",
    "version": 3
   },
   "file_extension": ".py",
   "mimetype": "text/x-python",
   "name": "python",
   "nbconvert_exporter": "python",
   "pygments_lexer": "ipython3",
   "version": "3.8.3"
  }
 },
 "nbformat": 4,
 "nbformat_minor": 4
}
