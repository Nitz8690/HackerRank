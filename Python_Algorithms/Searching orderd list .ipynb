{
 "cells": [
  {
   "cell_type": "markdown",
   "metadata": {},
   "source": [
    "## Searching orderd list "
   ]
  },
  {
   "cell_type": "code",
   "execution_count": 8,
   "metadata": {},
   "outputs": [],
   "source": [
    "li = [6, 8, 19, 20, 23, 41, 49, 53, 56, 87, 99]"
   ]
  },
  {
   "cell_type": "code",
   "execution_count": 9,
   "metadata": {},
   "outputs": [],
   "source": [
    "def binarySearch(item, li):\n",
    "\n",
    "    lowerIdx = 0\n",
    "    upperIdx = len(li) -1\n",
    "    \n",
    "    while lowerIdx <= upperIdx:\n",
    "        \n",
    "        midPt = (lowerIdx + upperIdx) // 2\n",
    "        \n",
    "        if li[midPt] == item:\n",
    "            return midPt\n",
    "        \n",
    "        \n",
    "        if item > li[midPt]:\n",
    "            lowerIdx = midPt + 1\n",
    "       \n",
    "        else:\n",
    "            upperIdx = midPt - 1\n",
    "    \n",
    "    if lowerIdx > upperIdx:\n",
    "        return None    \n"
   ]
  },
  {
   "cell_type": "code",
   "execution_count": 10,
   "metadata": {},
   "outputs": [
    {
     "name": "stdout",
     "output_type": "stream",
     "text": [
      "None\n"
     ]
    }
   ],
   "source": [
    "print(binarySearch(88, li))"
   ]
  },
  {
   "cell_type": "code",
   "execution_count": 11,
   "metadata": {},
   "outputs": [
    {
     "name": "stdout",
     "output_type": "stream",
     "text": [
      "5\n"
     ]
    }
   ],
   "source": [
    "print(binarySearch(41, li))"
   ]
  },
  {
   "cell_type": "code",
   "execution_count": null,
   "metadata": {},
   "outputs": [],
   "source": []
  }
 ],
 "metadata": {
  "kernelspec": {
   "display_name": "Python 3",
   "language": "python",
   "name": "python3"
  },
  "language_info": {
   "codemirror_mode": {
    "name": "ipython",
    "version": 3
   },
   "file_extension": ".py",
   "mimetype": "text/x-python",
   "name": "python",
   "nbconvert_exporter": "python",
   "pygments_lexer": "ipython3",
   "version": "3.8.3"
  }
 },
 "nbformat": 4,
 "nbformat_minor": 4
}
