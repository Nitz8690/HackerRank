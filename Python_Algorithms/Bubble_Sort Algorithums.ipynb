{
 "cells": [
  {
   "cell_type": "markdown",
   "metadata": {},
   "source": [
    "## Bubble_Sort Algorithums"
   ]
  },
  {
   "cell_type": "code",
   "execution_count": 25,
   "metadata": {},
   "outputs": [],
   "source": [
    "def bubbleSort(l):\n",
    "    for i in range(len(l)-1, 0, -1):\n",
    "        for j in range(i):\n",
    "            if l[j] > l [j+1]:\n",
    "                temp = l[j]\n",
    "                l[j] = l[j+1]\n",
    "                l[j+1] = temp\n",
    "    print('final result: ', l)\n",
    "    \n"
   ]
  },
  {
   "cell_type": "code",
   "execution_count": 26,
   "metadata": {},
   "outputs": [],
   "source": [
    "l = [6, 20, 8, 19, 56, 23, 87, 41, 49, 53]"
   ]
  },
  {
   "cell_type": "code",
   "execution_count": 27,
   "metadata": {},
   "outputs": [
    {
     "name": "stdout",
     "output_type": "stream",
     "text": [
      "final result:  [6, 8, 19, 20, 23, 41, 49, 53, 56, 87]\n"
     ]
    }
   ],
   "source": [
    "bubbleSort(l)"
   ]
  },
  {
   "cell_type": "code",
   "execution_count": null,
   "metadata": {},
   "outputs": [],
   "source": []
  }
 ],
 "metadata": {
  "kernelspec": {
   "display_name": "Python 3",
   "language": "python",
   "name": "python3"
  },
  "language_info": {
   "codemirror_mode": {
    "name": "ipython",
    "version": 3
   },
   "file_extension": ".py",
   "mimetype": "text/x-python",
   "name": "python",
   "nbconvert_exporter": "python",
   "pygments_lexer": "ipython3",
   "version": "3.8.3"
  }
 },
 "nbformat": 4,
 "nbformat_minor": 4
}
