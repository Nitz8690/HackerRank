{
 "cells": [
  {
   "cell_type": "markdown",
   "metadata": {},
   "source": [
    "## Merge Sort Algorithm"
   ]
  },
  {
   "cell_type": "code",
   "execution_count": 13,
   "metadata": {},
   "outputs": [],
   "source": [
    "def mergeSort(l):\n",
    "    if len(l)>1:\n",
    "        mid = len(l) // 2\n",
    "        leftarr = l[:mid]\n",
    "        rightarr = l[mid:]\n",
    "        \n",
    "        mergeSort(leftarr)\n",
    "        mergeSort(rightarr)\n",
    "        \n",
    "        i=0\n",
    "        j=0\n",
    "        k=0\n",
    "                \n",
    "        while i < len(leftarr) and j < len(rightarr):\n",
    "            if leftarr[i] < rightarr[j]:\n",
    "                l[k]  = leftarr[i]\n",
    "                i += 1\n",
    "            else:\n",
    "                l[k] = rightarr[j]\n",
    "                j += 1\n",
    "            k += 1\n",
    "            \n",
    "        while i < len(leftarr):\n",
    "            l[k] = leftarr[i]\n",
    "            i += 1\n",
    "            k += 1\n",
    "            \n",
    "        while j < len(rightarr):\n",
    "            l[k] = rightarr[j]\n",
    "            j += 1\n",
    "            k += 1\n",
    "    \n",
    "    return(l)"
   ]
  },
  {
   "cell_type": "code",
   "execution_count": 14,
   "metadata": {},
   "outputs": [],
   "source": [
    "l = [6, 20, 8, 19, 56, 23, 87, 41, 49, 53]"
   ]
  },
  {
   "cell_type": "code",
   "execution_count": 15,
   "metadata": {},
   "outputs": [
    {
     "data": {
      "text/plain": [
       "[6, 8, 19, 20, 23, 41, 49, 53, 56, 87]"
      ]
     },
     "execution_count": 15,
     "metadata": {},
     "output_type": "execute_result"
    }
   ],
   "source": [
    "mergeSort(l)"
   ]
  },
  {
   "cell_type": "code",
   "execution_count": null,
   "metadata": {},
   "outputs": [],
   "source": []
  }
 ],
 "metadata": {
  "kernelspec": {
   "display_name": "Python 3",
   "language": "python",
   "name": "python3"
  },
  "language_info": {
   "codemirror_mode": {
    "name": "ipython",
    "version": 3
   },
   "file_extension": ".py",
   "mimetype": "text/x-python",
   "name": "python",
   "nbconvert_exporter": "python",
   "pygments_lexer": "ipython3",
   "version": "3.8.3"
  }
 },
 "nbformat": 4,
 "nbformat_minor": 4
}
