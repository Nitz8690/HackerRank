{
 "cells": [
  {
   "cell_type": "markdown",
   "metadata": {},
   "source": [
    "There are 3 urns labeled X,Y , and Z.\n",
    "\n",
    "\n",
    "Urn X contains 4 red balls and 3 black balls.\n",
    "Urn Y contains 5 red balls and 4 black balls.\n",
    "Urn Z contains 4 red balls and 4 black balls.\n",
    "\n",
    "One ball is drawn from each of the  urns. What is the probability that, of the  balls drawn,  are red and  is black?"
   ]
  },
  {
   "cell_type": "code",
   "execution_count": 1,
   "metadata": {},
   "outputs": [
    {
     "name": "stdout",
     "output_type": "stream",
     "text": [
      "The probability of drawing 2 reds and one black is 0.40476190476190477, or 17/42.\n"
     ]
    }
   ],
   "source": [
    "from fractions import Fraction\n",
    "\n",
    "x = [4, 3]\n",
    "y = [5, 4]\n",
    "z = [4, 4]\n",
    "\n",
    "# The probabilities of pulling red form each urn\n",
    "xr = x[0] / sum(x)\n",
    "yr = y[0] / sum(y)\n",
    "zr = z[0] / sum(z)\n",
    "\n",
    "p = (xr * yr * (1 - zr)) + (xr * (1 - yr) * zr) + ((1 - xr) * yr * zr)\n",
    "p_frac = Fraction(p).limit_denominator() # Fraction form\n",
    "\n",
    "print(f\"The probability of drawing 2 reds and one black is {p}, or {p_frac}.\")"
   ]
  }
 ],
 "metadata": {
  "kernelspec": {
   "display_name": "Python 3",
   "language": "python",
   "name": "python3"
  },
  "language_info": {
   "codemirror_mode": {
    "name": "ipython",
    "version": 3
   },
   "file_extension": ".py",
   "mimetype": "text/x-python",
   "name": "python",
   "nbconvert_exporter": "python",
   "pygments_lexer": "ipython3",
   "version": "3.8.3"
  }
 },
 "nbformat": 4,
 "nbformat_minor": 4
}
