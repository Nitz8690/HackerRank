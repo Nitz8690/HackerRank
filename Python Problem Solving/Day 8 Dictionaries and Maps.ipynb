{
 "cells": [
  {
   "cell_type": "markdown",
   "metadata": {},
   "source": [
    "Day 8: Dictionaries and Maps"
   ]
  },
  {
   "cell_type": "code",
   "execution_count": 1,
   "metadata": {},
   "outputs": [
    {
     "data": {
      "text/html": [
       "\n",
       "        <iframe\n",
       "            width=\"800\"\n",
       "            height=\"600\"\n",
       "            src=\"./Ref_Images/Day8.pdf\"\n",
       "            frameborder=\"0\"\n",
       "            allowfullscreen\n",
       "        ></iframe>\n",
       "        "
      ],
      "text/plain": [
       "<IPython.lib.display.IFrame at 0x7f4f2c74c310>"
      ]
     },
     "execution_count": 1,
     "metadata": {},
     "output_type": "execute_result"
    }
   ],
   "source": [
    "from IPython.display import IFrame\n",
    "IFrame(\"./Ref_Images/Day8.pdf\", width=800, height=600)"
   ]
  },
  {
   "cell_type": "code",
   "execution_count": null,
   "metadata": {},
   "outputs": [
    {
     "name": "stdout",
     "output_type": "stream",
     "text": [
      "2\n",
      "Nishant 99999999\n",
      "Shah 88888888\n",
      "Nishant\n",
      "Nishant=99999999\n",
      "Sha\n",
      "Not found\n"
     ]
    }
   ],
   "source": [
    "# Enter your code here. Read input from STDIN. Print output to STDOUT\n",
    "\n",
    "def match(s):\n",
    "\n",
    "    if s in phonebook:\n",
    "        print (str(s) + \"=\" + str(phonebook[s]) )\n",
    "    else: print(\"Not found\")\n",
    "\n",
    "\n",
    "n = int(input())\n",
    "phonebook={}\n",
    "for i in range(n):\n",
    "    d = dict(x.split(' ') for x in str(input()).split('/n'))\n",
    "    for k,v in d.items():\n",
    "        phonebook[k] = v\n",
    "\n",
    "\n",
    "while True:\n",
    "    try:\n",
    "        \n",
    "        s = input()\n",
    "        if s != None:\n",
    "            match(s)\n",
    "        else: break\n",
    "    except (EOFError):\n",
    "       break #end of file reached"
   ]
  },
  {
   "cell_type": "code",
   "execution_count": null,
   "metadata": {},
   "outputs": [],
   "source": []
  }
 ],
 "metadata": {
  "kernelspec": {
   "display_name": "Python 3",
   "language": "python",
   "name": "python3"
  },
  "language_info": {
   "codemirror_mode": {
    "name": "ipython",
    "version": 3
   },
   "file_extension": ".py",
   "mimetype": "text/x-python",
   "name": "python",
   "nbconvert_exporter": "python",
   "pygments_lexer": "ipython3",
   "version": "3.8.3"
  }
 },
 "nbformat": 4,
 "nbformat_minor": 4
}
